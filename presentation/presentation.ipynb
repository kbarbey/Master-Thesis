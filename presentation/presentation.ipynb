{
 "cells": [
  {
   "cell_type": "code",
   "execution_count": 2,
   "metadata": {},
   "outputs": [],
   "source": [
    "import numpy as np\n",
    "import matplotlib.pyplot as plt\n",
    "from matplotlib.widgets import Slider\n",
    "from ipywidgets import interact, interactive, fixed, interact_manual\n",
    "import ipywidgets as widgets\n",
    "from scipy.spatial.distance import pdist, squareform\n",
    "import dcor\n"
   ]
  },
  {
   "cell_type": "code",
   "execution_count": 6,
   "metadata": {},
   "outputs": [],
   "source": [
    "%matplotlib qt"
   ]
  },
  {
   "cell_type": "code",
   "execution_count": 11,
   "metadata": {},
   "outputs": [
    {
     "name": "stderr",
     "output_type": "stream",
     "text": [
      "C:\\Users\\kentb\\AppData\\Local\\Temp\\ipykernel_29252\\58898730.py:12: RuntimeWarning: invalid value encountered in sqrt\n",
      "  updated_y = coefficient * np.sqrt(1-x**2) + np.random.normal(0, 0.2, size=len(x))\n"
     ]
    }
   ],
   "source": [
    "# Initial coefficient\n",
    "initial_coefficient = 1.0\n",
    "\n",
    "# Generate random data with a non-linear relationship\n",
    "np.random.seed(42)\n",
    "x = np.linspace(0, 10, 100)\n",
    "y = np.sin(x) + np.random.normal(0, 0.2, size=len(x))\n",
    "\n",
    "# Function to update the plot based on the coefficient\n",
    "def update(val):\n",
    "    coefficient = slider.val\n",
    "    updated_y = coefficient * np.sqrt(1-x**2) + np.random.normal(0, 0.2, size=len(x))\n",
    "    distance_corr = dcor.distance_correlation(x, updated_y)\n",
    "    \n",
    "    # Update the plot\n",
    "    ax.clear()\n",
    "    ax.scatter(x, updated_y, label=f'Distance Correlation: {distance_corr:.2f}')\n",
    "    ax.set_title('Non-linear Relationship with Distance Correlation')\n",
    "    ax.set_xlabel('X')\n",
    "    ax.set_ylabel('Y')\n",
    "    ax.legend(loc='upper left')\n",
    "    plt.draw()\n",
    "\n",
    "# Create a slider widget\n",
    "fig, ax = plt.subplots()\n",
    "plt.subplots_adjust(bottom=0.25)\n",
    "slider_ax = plt.axes([0.25, 0.1, 0.65, 0.03])\n",
    "slider = Slider(slider_ax, 'Coefficient', 0.1, 2.0, valinit=initial_coefficient)\n",
    "slider.on_changed(update)\n",
    "\n",
    "# Display the initial plot\n",
    "update(initial_coefficient)\n",
    "plt.show()"
   ]
  }
 ],
 "metadata": {
  "kernelspec": {
   "display_name": "pdm",
   "language": "python",
   "name": "python3"
  },
  "language_info": {
   "codemirror_mode": {
    "name": "ipython",
    "version": 3
   },
   "file_extension": ".py",
   "mimetype": "text/x-python",
   "name": "python",
   "nbconvert_exporter": "python",
   "pygments_lexer": "ipython3",
   "version": "3.8.18"
  }
 },
 "nbformat": 4,
 "nbformat_minor": 2
}
